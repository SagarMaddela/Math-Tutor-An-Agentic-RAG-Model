{
 "cells": [
  {
   "cell_type": "code",
   "execution_count": 87,
   "id": "e4837a92",
   "metadata": {},
   "outputs": [],
   "source": [
    "# LOAD THE ENV CONTENT\n",
    "from dotenv import load_dotenv, find_dotenv\n",
    "_ = load_dotenv(find_dotenv())"
   ]
  },
  {
   "cell_type": "code",
   "execution_count": 88,
   "id": "b22d0de5",
   "metadata": {},
   "outputs": [],
   "source": [
    "from langgraph.checkpoint.memory import MemorySaver\n",
    "from typing import TypedDict, List\n",
    "from model import create_gemini_model\n",
    "from IPython.display import display, Markdown, Image\n",
    "from langgraph.graph import StateGraph, START, END\n",
    "import json\n",
    "from knowledge_base import search_vector_db"
   ]
  },
  {
   "cell_type": "code",
   "execution_count": 89,
   "id": "0a6dfb05",
   "metadata": {},
   "outputs": [],
   "source": [
    "# INITIALIZING MEMORY AND AGENT STATE\n",
    "memory = MemorySaver()\n",
    "\n",
    "class ProblemDetails(TypedDict):\n",
    "    user_question: str\n",
    "    problem_type: str\n",
    "\n",
    "class KbSearchResults(TypedDict):\n",
    "    Score: float\n",
    "    Subject: str\n",
    "    Problem: str\n",
    "    Solution: str\n",
    "    Level: str\n",
    "    Type: str\n",
    "\n",
    "class AgentState(TypedDict):\n",
    "    problem_details: ProblemDetails\n",
    "    kb_search_results: KbSearchResults\n",
    "    final_solution: str\n"
   ]
  },
  {
   "cell_type": "code",
   "execution_count": 90,
   "id": "91b553e0",
   "metadata": {},
   "outputs": [
    {
     "name": "stdout",
     "output_type": "stream",
     "text": [
      "✅ Successfully created Gemini model: gemini-2.5-pro\n",
      "   Temperature: 0.1\n",
      "   Max tokens: Not set\n",
      "   Top-p: 0.8\n",
      "   Top-k: 40\n"
     ]
    }
   ],
   "source": [
    "# CREATING THE MODEL\n",
    "model = create_gemini_model(model_name=\"gemini-2.5-pro\", temperature=0.1)\n",
    "# response = model.invoke(\"How to find the area of a circle?\")\n",
    "# # Convert to string and display\n",
    "# content = \"\\n\\n\".join(response.content) if isinstance(response.content, list) else str(response.content)\n",
    "# display(Markdown(content))"
   ]
  },
  {
   "cell_type": "code",
   "execution_count": 91,
   "id": "1d6dd998",
   "metadata": {},
   "outputs": [],
   "source": [
    "# ALL AGENT SYSTEM PROMPTS\n",
    "\n",
    "PROBLEM_TYPE_FINDER_PROMPT = \"\"\" \n",
    "You are a math domain expert and problem type classifier. Given a math problem, you must return the most suitable category from the following:\n",
    "\n",
    "[\"algebra\", \"counting and probability\", \"geometry\", \"intermediate_algebra\", \"number_theory\", \"prealgebra\", \"precalculus\"]\n",
    "\n",
    "Here are some examples:\n",
    "\n",
    "---\n",
    "\n",
    "**Problem:** What is the value of 2x + 3 when x = 4?  \n",
    "**Category:** algebra\n",
    "\n",
    "**Problem:** How many different ways can 3 books be arranged on a shelf?  \n",
    "**Category:** counting and probability\n",
    "\n",
    "**Problem:** Find the area of a triangle with base 10 and height 5.  \n",
    "**Category:** geometry\n",
    "\n",
    "**Problem:** Solve the inequality: 3x - 5 > 10  \n",
    "**Category:** intermediate_algebra\n",
    "\n",
    "**Problem:** What is the greatest common divisor of 24 and 36?  \n",
    "**Category:** number_theory\n",
    "\n",
    "**Problem:** Simplify: 5 + 3 × 2  \n",
    "**Category:** prealgebra\n",
    "\n",
    "**Problem:** What is the derivative of x²?  \n",
    "**Category:** precalculus\n",
    "\n",
    "---\n",
    "\n",
    "Now classify the following problem accordingly. Return only the category name.\n",
    "**Problem:** {problem}\n",
    "**Category:** \n",
    "\"\"\"\n",
    "\n",
    "SOLUTION_GENERATOR_PROMPT = \"\"\" \n",
    "You are a professional math tutor.\n",
    "\n",
    "Problem Type: {problem_type}\n",
    "User's Question: {user_question}\n",
    "\n",
    "Here are some similar solved examples from the knowledge base:\n",
    "{examples_text}\n",
    "\n",
    "Now, using the above context, write a clear and step-by-step professional solution to the user's question.\n",
    "Start the solution with \"Solution:\" and be thorough.\n",
    "    \"\"\"\n"
   ]
  },
  {
   "cell_type": "code",
   "execution_count": 92,
   "id": "2df1edc8",
   "metadata": {},
   "outputs": [],
   "source": [
    "# CREATING THE AGENT\n",
    "\n",
    "class Agent:\n",
    "    def __init__(self, model,user_query):\n",
    "        self.model = model\n",
    "        graph = StateGraph(AgentState)\n",
    "\n",
    "        def user_input(state: AgentState) -> AgentState:\n",
    "            state[\"problem_details\"][\"user_question\"] = user_query\n",
    "            print(f\"User input: {state['problem_details']['user_question']}\")\n",
    "            return state\n",
    "\n",
    "        def find_problem_type(state: AgentState) -> AgentState:\n",
    "            problem_type_finder_prompt = PROBLEM_TYPE_FINDER_PROMPT.format(problem=state[\"problem_details\"][\"user_question\"])\n",
    "            response = self.model.invoke(problem_type_finder_prompt)\n",
    "            print(f\"Problem type: {response.content}\")\n",
    "            state[\"problem_details\"][\"problem_type\"] = response.content\n",
    "            return state\n",
    "\n",
    "        def kb_retriever(state: AgentState) -> AgentState:\n",
    "            raw_results = search_vector_db(\n",
    "                query = state[\"problem_details\"][\"user_question\"] + \" \" + state[\"problem_details\"][\"problem_type\"],\n",
    "                top_k = 5\n",
    "            )\n",
    "            print(f\"No of similar problems found: {len(raw_results)}\")\n",
    "\n",
    "            # Store only clean JSON-safe dictionaries\n",
    "            cleaned_results = []\n",
    "            for r in raw_results:\n",
    "                try:\n",
    "                    cleaned_results.append({\n",
    "                        \"Score\": float(r.score),\n",
    "                        \"Subject\": r.payload.get(\"subject\", \"\"),\n",
    "                        \"Problem\": r.payload.get(\"problem\", \"\"),\n",
    "                        \"Solution\": r.payload.get(\"solution\", \"\"),\n",
    "                        \"Level\": r.payload.get(\"level\", \"\"),\n",
    "                        \"Type\": r.payload.get(\"type\", \"\")\n",
    "                    })\n",
    "                except Exception as e:\n",
    "                    print(f\"Error cleaning result: {e}\")\n",
    "\n",
    "            state[\"kb_search_results\"] = cleaned_results  # ONLY this, not raw_results\n",
    "            return state\n",
    "\n",
    "        def solution_generator(state: AgentState) -> AgentState:\n",
    "            user_question = state[\"problem_details\"][\"user_question\"]\n",
    "            problem_type = state[\"problem_details\"][\"problem_type\"]\n",
    "            kb_results = state[\"kb_search_results\"]\n",
    "            examples_text = \"\\n\".join([f\"Problem: {r['Problem']}\\nSolution: {r['Solution']}\" for r in kb_results])\n",
    "            solution_generator_prompt = SOLUTION_GENERATOR_PROMPT.format(user_question=user_question, problem_type=problem_type, examples_text=examples_text)\n",
    "            response = self.model.invoke(solution_generator_prompt)\n",
    "            # print(f\"Solution: {response.content}\")\n",
    "            state[\"final_solution\"] = response.content\n",
    "            return state\n",
    "\n",
    "        graph.add_node(\"user_input_node\", user_input)\n",
    "        graph.add_node(\"problem_type_finder_node\", find_problem_type)\n",
    "        graph.add_edge(START, \"user_input_node\")\n",
    "        graph.add_edge(\"user_input_node\", \"problem_type_finder_node\")\n",
    "        graph.add_node(\"kb_retriever_node\", kb_retriever)\n",
    "        graph.add_edge(\"problem_type_finder_node\", \"kb_retriever_node\")\n",
    "        graph.add_node(\"solution_generator_node\", solution_generator)\n",
    "        graph.add_edge(\"kb_retriever_node\", \"solution_generator_node\")\n",
    "        graph.add_edge(\"solution_generator_node\", END)\n",
    "\n",
    "\n",
    "        self.graph = graph.compile(checkpointer=memory)\n",
    "\n",
    "\n",
    "        "
   ]
  },
  {
   "cell_type": "code",
   "execution_count": 95,
   "id": "09c09dcb",
   "metadata": {},
   "outputs": [],
   "source": [
    "user_query = \"Find the area of a triangle with base 10 and height 5\"\n",
    "Math_Tutor = Agent(model, user_query)\n"
   ]
  },
  {
   "cell_type": "code",
   "execution_count": 96,
   "id": "0168cfc6",
   "metadata": {},
   "outputs": [
    {
     "data": {
      "image/png": "[encoded data removed]",
      "text/plain": [
       "<IPython.core.display.Image object>"
      ]
     },
     "execution_count": 96,
     "metadata": {},
     "output_type": "execute_result"
    }
   ],
   "source": [
    "Image(Math_Tutor.graph.get_graph().draw_mermaid_png())"
   ]
  },
  {
   "cell_type": "code",
   "execution_count": 97,
   "id": "bba6c574",
   "metadata": {},
   "outputs": [
    {
     "name": "stdout",
     "output_type": "stream",
     "text": [
      "User input: Find the area of a triangle with base 10 and height 5\n"
     ]
    },
    {
     "name": "stderr",
     "output_type": "stream",
     "text": [
      "c:\\Users\\91889\\OneDrive\\Documents\\Personal Projects\\AI Planet\\Math_Tutor\\venv\\Lib\\site-packages\\langchain_google_genai\\chat_models.py:357: UserWarning: Convert_system_message_to_human will be deprecated!\n",
      "  warnings.warn(\"Convert_system_message_to_human will be deprecated!\")\n"
     ]
    },
    {
     "name": "stdout",
     "output_type": "stream",
     "text": [
      "Problem type: geometry\n"
     ]
    },
    {
     "name": "stderr",
     "output_type": "stream",
     "text": [
      "c:\\Users\\91889\\OneDrive\\Documents\\Personal Projects\\AI Planet\\Math_Tutor\\venv\\Lib\\site-packages\\torch\\nn\\modules\\module.py:1762: FutureWarning: `encoder_attention_mask` is deprecated and will be removed in version 4.55.0 for `BertSdpaSelfAttention.forward`.\n",
      "  return forward_call(*args, **kwargs)\n",
      "c:\\Users\\91889\\OneDrive\\Documents\\Personal Projects\\AI Planet\\Math_Tutor\\venv\\Lib\\site-packages\\langchain_google_genai\\chat_models.py:357: UserWarning: Convert_system_message_to_human will be deprecated!\n",
      "  warnings.warn(\"Convert_system_message_to_human will be deprecated!\")\n"
     ]
    },
    {
     "name": "stdout",
     "output_type": "stream",
     "text": [
      "No of similar problems found: 5\n"
     ]
    },
    {
     "data": {
      "text/markdown": [
       "Solution:\n",
       "Of course! Let's find the area of the triangle step-by-step.\n",
       "\n",
       "**1. Recall the Formula**\n",
       "\n",
       "The formula for the area of a triangle is:\n",
       "Area = (1/2) × base × height\n",
       "\n",
       "This formula is fundamental for solving this type of problem.\n",
       "\n",
       "**2. Identify the Given Values**\n",
       "\n",
       "From the problem statement, we are given:\n",
       "*   base (b) = 10\n",
       "*   height (h) = 5\n",
       "\n",
       "**3. Substitute the Values into the Formula**\n",
       "\n",
       "Now, we plug the given values for the base and height into the area formula:\n",
       "Area = (1/2) × 10 × 5\n",
       "\n",
       "**4. Calculate the Area**\n",
       "\n",
       "We can perform the multiplication in any order. Let's multiply the base and height first:\n",
       "10 × 5 = 50\n",
       "\n",
       "Now, we multiply this result by 1/2 (which is the same as dividing by 2):\n",
       "Area = (1/2) × 50\n",
       "Area = 25\n",
       "\n",
       "**Conclusion**\n",
       "\n",
       "The area of a triangle with a base of 10 and a height of 5 is **25 square units**."
      ],
      "text/plain": [
       "<IPython.core.display.Markdown object>"
      ]
     },
     "metadata": {},
     "output_type": "display_data"
    }
   ],
   "source": [
    "intial_state = {\n",
    "    \"problem_details\": {\n",
    "        \"user_question\": \"\",\n",
    "        \"problem_type\": \"\"\n",
    "    },\n",
    "    \"kb_search_results\": {\n",
    "        \"Score\": 0.0,\n",
    "        \"Subject\": \"\",\n",
    "        \"Problem\": \"\",\n",
    "        \"Level\": \"\",\n",
    "        \"Type\": \"\"\n",
    "    },\n",
    "    \"final_solution\": \"\"\n",
    "}\n",
    "\n",
    "final_state = list(Math_Tutor.graph.stream(\n",
    "    intial_state,\n",
    "    config={\"thread_id\": \"1\"},\n",
    "    stream_mode=\"values\"\n",
    "))\n",
    "\n",
    "\n",
    "# for state in final_state:\n",
    "#     print(json.dumps(state, indent=2))\n",
    "#     print(\"\\n\")\n",
    "#     print(\"=\"*50)\n",
    "\n",
    "final_answer = final_state[-1][\"final_solution\"]\n",
    "display(Markdown(final_answer))"
   ]
  },
  {
   "cell_type": "code",
   "execution_count": null,
   "id": "d18a3adb",
   "metadata": {},
   "outputs": [],
   "source": []
  }
 ],
 "metadata": {
  "kernelspec": {
   "display_name": "venv",
   "language": "python",
   "name": "python3"
  },
  "language_info": {
   "codemirror_mode": {
    "name": "ipython",
    "version": 3
   },
   "file_extension": ".py",
   "mimetype": "text/x-python",
   "name": "python",
   "nbconvert_exporter": "python",
   "pygments_lexer": "ipython3",
   "version": "3.12.2"
  }
 },
 "nbformat": 4,
 "nbformat_minor": 5
}
